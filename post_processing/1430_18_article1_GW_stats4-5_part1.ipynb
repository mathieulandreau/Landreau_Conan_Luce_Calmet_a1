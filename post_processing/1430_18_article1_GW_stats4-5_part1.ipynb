{
 "cells": [
  {
   "cell_type": "code",
   "execution_count": null,
   "id": "8757a1bc-de87-464c-96af-10e11e9a7298",
   "metadata": {},
   "outputs": [],
   "source": [
    "#py_wrf_arps version : 0e954069c2e37d84c316ce18f93ee1213538b5b7 , the current date is :  2025-03-14 17:27:47.085063\n",
    "from py_wrf_arps import *\n",
    "import time\n",
    "import copy\n",
    "import scipy\n",
    "import pandas as pd\n",
    "%matplotlib inline"
   ]
  },
  {
   "cell_type": "code",
   "execution_count": null,
   "id": "1789bc02-00af-4890-8d7f-a3cc42cce57d",
   "metadata": {},
   "outputs": [],
   "source": [
    "sim = Proj(\"../../../../\", \"14_20200515/\", [\"05\"], \n",
    "        [\"WRF\"], \n",
    "        tab_test=[\"30\"])\n",
    "dom = sim.get_dom(\"05\")\n",
    "SBZvec = np.linspace(0.06, 2.4, 40)"
   ]
  },
  {
   "cell_type": "markdown",
   "id": "c0a024b3-dafc-4486-9ff3-d1aae6a1b82f",
   "metadata": {},
   "source": [
    "## Create Masks"
   ]
  },
  {
   "cell_type": "code",
   "execution_count": null,
   "id": "ec54dabd-2d6b-42c6-bca1-594cdd924e5e",
   "metadata": {},
   "outputs": [],
   "source": [
    "dom.save_GWMASK2_carac()"
   ]
  },
  {
   "cell_type": "code",
   "execution_count": null,
   "id": "53a8064a-1c7a-42c0-a2bf-b181cc565e58",
   "metadata": {},
   "outputs": [],
   "source": [
    "dom.GWMASK4_IR_IL()"
   ]
  },
  {
   "cell_type": "markdown",
   "id": "b4b8f604-81d7-45ff-aaf8-5edc8febf631",
   "metadata": {},
   "source": [
    "## compute GW carac in MASK 4 (same size at every time)"
   ]
  },
  {
   "cell_type": "code",
   "execution_count": null,
   "id": "4e349ce4-a145-478d-8a1c-4eda7a5da3bb",
   "metadata": {},
   "outputs": [],
   "source": [
    "dom.compute_GW_carac_from_MASK4()"
   ]
  }
 ],
 "metadata": {
  "kernelspec": {
   "display_name": "Python 3 (ipykernel)",
   "language": "python",
   "name": "python3"
  },
  "language_info": {
   "codemirror_mode": {
    "name": "ipython",
    "version": 3
   },
   "file_extension": ".py",
   "mimetype": "text/x-python",
   "name": "python",
   "nbconvert_exporter": "python",
   "pygments_lexer": "ipython3",
   "version": "3.7.12"
  }
 },
 "nbformat": 4,
 "nbformat_minor": 5
}
